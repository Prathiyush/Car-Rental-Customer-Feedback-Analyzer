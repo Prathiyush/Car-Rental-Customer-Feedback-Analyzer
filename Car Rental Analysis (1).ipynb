{
 "cells": [
  {
   "cell_type": "code",
   "execution_count": 1,
   "metadata": {
    "id": "bd8e2b57-0a8f-4e3a-8eba-c8998440996f"
   },
   "outputs": [
    {
     "name": "stdout",
     "output_type": "stream",
     "text": [
      "Requirement already satisfied: datasets in /opt/conda/envs/Python-RT24.1/lib/python3.11/site-packages (2.18.0)\n",
      "Requirement already satisfied: filelock in /opt/conda/envs/Python-RT24.1/lib/python3.11/site-packages (from datasets) (3.13.1)\n",
      "Requirement already satisfied: numpy>=1.17 in /opt/conda/envs/Python-RT24.1/lib/python3.11/site-packages (from datasets) (1.26.4)\n",
      "Requirement already satisfied: pyarrow>=12.0.0 in /opt/conda/envs/Python-RT24.1/lib/python3.11/site-packages (from datasets) (15.0.1)\n",
      "Requirement already satisfied: pyarrow-hotfix in /opt/conda/envs/Python-RT24.1/lib/python3.11/site-packages (from datasets) (0.6)\n",
      "Requirement already satisfied: dill<0.3.9,>=0.3.0 in /opt/conda/envs/Python-RT24.1/lib/python3.11/site-packages (from datasets) (0.3.8)\n",
      "Requirement already satisfied: pandas in /opt/conda/envs/Python-RT24.1/lib/python3.11/site-packages (from datasets) (2.1.4)\n",
      "Requirement already satisfied: requests>=2.19.0 in /opt/conda/envs/Python-RT24.1/lib/python3.11/site-packages (from datasets) (2.32.2)\n",
      "Requirement already satisfied: tqdm>=4.62.1 in /opt/conda/envs/Python-RT24.1/lib/python3.11/site-packages (from datasets) (4.66.4)\n",
      "Requirement already satisfied: xxhash in /opt/conda/envs/Python-RT24.1/lib/python3.11/site-packages (from datasets) (3.4.1)\n",
      "Requirement already satisfied: multiprocess in /opt/conda/envs/Python-RT24.1/lib/python3.11/site-packages (from datasets) (0.70.15)\n",
      "Requirement already satisfied: fsspec<=2024.2.0,>=2023.1.0 in /opt/conda/envs/Python-RT24.1/lib/python3.11/site-packages (from fsspec[http]<=2024.2.0,>=2023.1.0->datasets) (2023.10.0)\n",
      "Requirement already satisfied: aiohttp in /opt/conda/envs/Python-RT24.1/lib/python3.11/site-packages (from datasets) (3.11.10)\n",
      "Requirement already satisfied: huggingface-hub>=0.19.4 in /opt/conda/envs/Python-RT24.1/lib/python3.11/site-packages (from datasets) (0.29.2)\n",
      "Requirement already satisfied: packaging in /opt/conda/envs/Python-RT24.1/lib/python3.11/site-packages (from datasets) (23.2)\n",
      "Requirement already satisfied: pyyaml>=5.1 in /opt/conda/envs/Python-RT24.1/lib/python3.11/site-packages (from datasets) (6.0.1)\n",
      "Requirement already satisfied: aiohappyeyeballs>=2.3.0 in /opt/conda/envs/Python-RT24.1/lib/python3.11/site-packages (from aiohttp->datasets) (2.4.0)\n",
      "Requirement already satisfied: aiosignal>=1.1.2 in /opt/conda/envs/Python-RT24.1/lib/python3.11/site-packages (from aiohttp->datasets) (1.2.0)\n",
      "Requirement already satisfied: attrs>=17.3.0 in /opt/conda/envs/Python-RT24.1/lib/python3.11/site-packages (from aiohttp->datasets) (23.1.0)\n",
      "Requirement already satisfied: frozenlist>=1.1.1 in /opt/conda/envs/Python-RT24.1/lib/python3.11/site-packages (from aiohttp->datasets) (1.4.0)\n",
      "Requirement already satisfied: multidict<7.0,>=4.5 in /opt/conda/envs/Python-RT24.1/lib/python3.11/site-packages (from aiohttp->datasets) (6.0.4)\n",
      "Requirement already satisfied: propcache>=0.2.0 in /opt/conda/envs/Python-RT24.1/lib/python3.11/site-packages (from aiohttp->datasets) (0.2.0)\n",
      "Requirement already satisfied: yarl<2.0,>=1.17.0 in /opt/conda/envs/Python-RT24.1/lib/python3.11/site-packages (from aiohttp->datasets) (1.18.0)\n",
      "Requirement already satisfied: typing-extensions>=3.7.4.3 in /opt/conda/envs/Python-RT24.1/lib/python3.11/site-packages (from huggingface-hub>=0.19.4->datasets) (4.12.2)\n",
      "Requirement already satisfied: charset-normalizer<4,>=2 in /opt/conda/envs/Python-RT24.1/lib/python3.11/site-packages (from requests>=2.19.0->datasets) (2.0.4)\n",
      "Requirement already satisfied: idna<4,>=2.5 in /opt/conda/envs/Python-RT24.1/lib/python3.11/site-packages (from requests>=2.19.0->datasets) (3.7)\n",
      "Requirement already satisfied: urllib3<3,>=1.21.1 in /opt/conda/envs/Python-RT24.1/lib/python3.11/site-packages (from requests>=2.19.0->datasets) (1.26.19)\n",
      "Requirement already satisfied: certifi>=2017.4.17 in /opt/conda/envs/Python-RT24.1/lib/python3.11/site-packages (from requests>=2.19.0->datasets) (2025.4.26)\n",
      "Requirement already satisfied: python-dateutil>=2.8.2 in /opt/conda/envs/Python-RT24.1/lib/python3.11/site-packages (from pandas->datasets) (2.8.2)\n",
      "Requirement already satisfied: pytz>=2020.1 in /opt/conda/envs/Python-RT24.1/lib/python3.11/site-packages (from pandas->datasets) (2024.1)\n",
      "Requirement already satisfied: tzdata>=2022.1 in /opt/conda/envs/Python-RT24.1/lib/python3.11/site-packages (from pandas->datasets) (2023.3)\n",
      "Requirement already satisfied: six>=1.5 in /opt/conda/envs/Python-RT24.1/lib/python3.11/site-packages (from python-dateutil>=2.8.2->pandas->datasets) (1.16.0)\n",
      "Requirement already satisfied: scikit-learn in /opt/conda/envs/Python-RT24.1/lib/python3.11/site-packages (1.3.0)\n",
      "Requirement already satisfied: numpy>=1.17.3 in /opt/conda/envs/Python-RT24.1/lib/python3.11/site-packages (from scikit-learn) (1.26.4)\n",
      "Requirement already satisfied: scipy>=1.5.0 in /opt/conda/envs/Python-RT24.1/lib/python3.11/site-packages (from scikit-learn) (1.11.4)\n",
      "Requirement already satisfied: joblib>=1.1.1 in /opt/conda/envs/Python-RT24.1/lib/python3.11/site-packages (from scikit-learn) (1.3.2)\n",
      "Requirement already satisfied: threadpoolctl>=2.0.0 in /opt/conda/envs/Python-RT24.1/lib/python3.11/site-packages (from scikit-learn) (2.2.0)\n",
      "Collecting ibm-watson-machine-learning==1.0.312\n",
      "  Downloading ibm_watson_machine_learning-1.0.312-py3-none-any.whl.metadata (8.9 kB)\n",
      "Requirement already satisfied: requests in /opt/conda/envs/Python-RT24.1/lib/python3.11/site-packages (from ibm-watson-machine-learning==1.0.312) (2.32.2)\n",
      "Requirement already satisfied: urllib3 in /opt/conda/envs/Python-RT24.1/lib/python3.11/site-packages (from ibm-watson-machine-learning==1.0.312) (1.26.19)\n",
      "Collecting pandas<1.6.0,>=0.24.2 (from ibm-watson-machine-learning==1.0.312)\n",
      "  Downloading pandas-1.5.3-cp311-cp311-manylinux_2_17_x86_64.manylinux2014_x86_64.whl.metadata (11 kB)\n",
      "Requirement already satisfied: certifi in /opt/conda/envs/Python-RT24.1/lib/python3.11/site-packages (from ibm-watson-machine-learning==1.0.312) (2025.4.26)\n",
      "Requirement already satisfied: lomond in /opt/conda/envs/Python-RT24.1/lib/python3.11/site-packages (from ibm-watson-machine-learning==1.0.312) (0.3.3)\n",
      "Requirement already satisfied: tabulate in /opt/conda/envs/Python-RT24.1/lib/python3.11/site-packages (from ibm-watson-machine-learning==1.0.312) (0.8.10)\n",
      "Requirement already satisfied: packaging in /opt/conda/envs/Python-RT24.1/lib/python3.11/site-packages (from ibm-watson-machine-learning==1.0.312) (23.2)\n",
      "Requirement already satisfied: importlib-metadata in /opt/conda/envs/Python-RT24.1/lib/python3.11/site-packages (from ibm-watson-machine-learning==1.0.312) (7.0.1)\n",
      "Requirement already satisfied: ibm-cos-sdk<2.14.0,>=2.12.0 in /opt/conda/envs/Python-RT24.1/lib/python3.11/site-packages (from ibm-watson-machine-learning==1.0.312) (2.13.4)\n",
      "Requirement already satisfied: ibm-cos-sdk-core==2.13.4 in /opt/conda/envs/Python-RT24.1/lib/python3.11/site-packages (from ibm-cos-sdk<2.14.0,>=2.12.0->ibm-watson-machine-learning==1.0.312) (2.13.4)\n",
      "Requirement already satisfied: ibm-cos-sdk-s3transfer==2.13.4 in /opt/conda/envs/Python-RT24.1/lib/python3.11/site-packages (from ibm-cos-sdk<2.14.0,>=2.12.0->ibm-watson-machine-learning==1.0.312) (2.13.4)\n",
      "Requirement already satisfied: jmespath<=1.0.1,>=0.10.0 in /opt/conda/envs/Python-RT24.1/lib/python3.11/site-packages (from ibm-cos-sdk<2.14.0,>=2.12.0->ibm-watson-machine-learning==1.0.312) (1.0.1)\n",
      "Requirement already satisfied: python-dateutil<3.0.0,>=2.8.2 in /opt/conda/envs/Python-RT24.1/lib/python3.11/site-packages (from ibm-cos-sdk-core==2.13.4->ibm-cos-sdk<2.14.0,>=2.12.0->ibm-watson-machine-learning==1.0.312) (2.8.2)\n",
      "Requirement already satisfied: pytz>=2020.1 in /opt/conda/envs/Python-RT24.1/lib/python3.11/site-packages (from pandas<1.6.0,>=0.24.2->ibm-watson-machine-learning==1.0.312) (2024.1)\n",
      "Requirement already satisfied: numpy>=1.21.0 in /opt/conda/envs/Python-RT24.1/lib/python3.11/site-packages (from pandas<1.6.0,>=0.24.2->ibm-watson-machine-learning==1.0.312) (1.26.4)\n",
      "Requirement already satisfied: charset-normalizer<4,>=2 in /opt/conda/envs/Python-RT24.1/lib/python3.11/site-packages (from requests->ibm-watson-machine-learning==1.0.312) (2.0.4)\n",
      "Requirement already satisfied: idna<4,>=2.5 in /opt/conda/envs/Python-RT24.1/lib/python3.11/site-packages (from requests->ibm-watson-machine-learning==1.0.312) (3.7)\n",
      "Requirement already satisfied: zipp>=0.5 in /opt/conda/envs/Python-RT24.1/lib/python3.11/site-packages (from importlib-metadata->ibm-watson-machine-learning==1.0.312) (3.20.2)\n",
      "Requirement already satisfied: six>=1.10.0 in /opt/conda/envs/Python-RT24.1/lib/python3.11/site-packages (from lomond->ibm-watson-machine-learning==1.0.312) (1.16.0)\n",
      "Downloading ibm_watson_machine_learning-1.0.312-py3-none-any.whl (1.7 MB)\n",
      "\u001b[2K   \u001b[90m━━━━━━━━━━━━━━━━━━━━━━━━━━━━━━━━━━━━━━━━\u001b[0m \u001b[32m1.7/1.7 MB\u001b[0m \u001b[31m27.2 MB/s\u001b[0m eta \u001b[36m0:00:00\u001b[0ma \u001b[36m0:00:01\u001b[0m\n",
      "\u001b[?25hDownloading pandas-1.5.3-cp311-cp311-manylinux_2_17_x86_64.manylinux2014_x86_64.whl (12.0 MB)\n",
      "\u001b[2K   \u001b[90m━━━━━━━━━━━━━━━━━━━━━━━━━━━━━━━━━━━━━━━━\u001b[0m \u001b[32m12.0/12.0 MB\u001b[0m \u001b[31m69.1 MB/s\u001b[0m eta \u001b[36m0:00:00\u001b[0m:00:01\u001b[0m0:01\u001b[0m\n",
      "\u001b[?25hInstalling collected packages: pandas, ibm-watson-machine-learning\n",
      "  Attempting uninstall: pandas\n",
      "    Found existing installation: pandas 2.1.4\n",
      "    Uninstalling pandas-2.1.4:\n",
      "      Successfully uninstalled pandas-2.1.4\n",
      "  Attempting uninstall: ibm-watson-machine-learning\n",
      "    Found existing installation: ibm_watson_machine_learning 1.0.367\n",
      "    Uninstalling ibm_watson_machine_learning-1.0.367:\n",
      "      Successfully uninstalled ibm_watson_machine_learning-1.0.367\n",
      "\u001b[31mERROR: pip's dependency resolver does not currently take into account all the packages that are installed. This behaviour is the source of the following dependency conflicts.\n",
      "autoai-libs 2.0.19 requires pandas==2.1.*, but you have pandas 1.5.3 which is incompatible.\n",
      "autoai-ts-libs 4.0.16 requires pandas==2.1.*, but you have pandas 1.5.3 which is incompatible.\u001b[0m\u001b[31m\n",
      "\u001b[0mSuccessfully installed ibm-watson-machine-learning-1.0.312 pandas-1.5.3\n"
     ]
    }
   ],
   "source": [
    "!pip install datasets\n",
    "!pip install scikit-learn\n",
    "!pip install ibm-watson-machine-learning==1.0.312"
   ]
  },
  {
   "cell_type": "code",
   "execution_count": 37,
   "metadata": {
    "id": "0980a70a-6089-4306-b0a2-fc92e430438c"
   },
   "outputs": [
    {
     "name": "stdout",
     "output_type": "stream",
     "text": [
      "Requirement already satisfied: matplotlib in /opt/conda/envs/Python-RT24.1/lib/python3.11/site-packages (3.8.0)\n",
      "Requirement already satisfied: seaborn in /opt/conda/envs/Python-RT24.1/lib/python3.11/site-packages (0.12.2)\n",
      "Requirement already satisfied: contourpy>=1.0.1 in /opt/conda/envs/Python-RT24.1/lib/python3.11/site-packages (from matplotlib) (1.2.0)\n",
      "Requirement already satisfied: cycler>=0.10 in /opt/conda/envs/Python-RT24.1/lib/python3.11/site-packages (from matplotlib) (0.11.0)\n",
      "Requirement already satisfied: fonttools>=4.22.0 in /opt/conda/envs/Python-RT24.1/lib/python3.11/site-packages (from matplotlib) (4.51.0)\n",
      "Requirement already satisfied: kiwisolver>=1.0.1 in /opt/conda/envs/Python-RT24.1/lib/python3.11/site-packages (from matplotlib) (1.4.4)\n",
      "Requirement already satisfied: numpy<2,>=1.21 in /opt/conda/envs/Python-RT24.1/lib/python3.11/site-packages (from matplotlib) (1.26.4)\n",
      "Requirement already satisfied: packaging>=20.0 in /opt/conda/envs/Python-RT24.1/lib/python3.11/site-packages (from matplotlib) (23.2)\n",
      "Requirement already satisfied: pillow>=6.2.0 in /opt/conda/envs/Python-RT24.1/lib/python3.11/site-packages (from matplotlib) (10.3.0)\n",
      "Requirement already satisfied: pyparsing>=2.3.1 in /opt/conda/envs/Python-RT24.1/lib/python3.11/site-packages (from matplotlib) (3.0.9)\n",
      "Requirement already satisfied: python-dateutil>=2.7 in /opt/conda/envs/Python-RT24.1/lib/python3.11/site-packages (from matplotlib) (2.8.2)\n",
      "Requirement already satisfied: pandas>=0.25 in /opt/conda/envs/Python-RT24.1/lib/python3.11/site-packages (from seaborn) (1.5.3)\n",
      "Requirement already satisfied: pytz>=2020.1 in /opt/conda/envs/Python-RT24.1/lib/python3.11/site-packages (from pandas>=0.25->seaborn) (2024.1)\n",
      "Requirement already satisfied: six>=1.5 in /opt/conda/envs/Python-RT24.1/lib/python3.11/site-packages (from python-dateutil>=2.7->matplotlib) (1.16.0)\n"
     ]
    }
   ],
   "source": [
    "!pip install matplotlib seaborn"
   ]
  },
  {
   "cell_type": "code",
   "execution_count": 2,
   "metadata": {
    "id": "1e62ccf3-93d0-4b83-a6af-d3a5b2787237"
   },
   "outputs": [],
   "source": [
    "import os, getpass\n",
    "from pandas import read_csv"
   ]
  },
  {
   "cell_type": "code",
   "execution_count": 3,
   "metadata": {
    "id": "973142cd-d2ff-43bb-becd-004136766a9e"
   },
   "outputs": [
    {
     "name": "stdout",
     "output_type": "stream",
     "text": [
      "Please enter your api key: ········\n"
     ]
    }
   ],
   "source": [
    "credetials = {\n",
    "    \"url\":\"https://us-south.ml.cloud.ibm.com\",\n",
    "    \"apikey\":getpass.getpass(\"Please enter your api key:\")\n",
    "}"
   ]
  },
  {
   "cell_type": "code",
   "execution_count": 5,
   "metadata": {
    "id": "f05470ab-78ba-4392-b1cd-541da6e77ffb"
   },
   "outputs": [],
   "source": []
  },
  {
   "cell_type": "code",
   "execution_count": 6,
   "metadata": {
    "id": "4b0818cc-100b-4f9f-92d4-a69f1509f58a"
   },
   "outputs": [],
   "source": [
    "try:\n",
    "    project_id = os.environ[\"PROJECT_ID\"]\n",
    "except KeyError:\n",
    "    project_id = input(\"Please enter your project_id\")"
   ]
  },
  {
   "cell_type": "code",
   "execution_count": 7,
   "metadata": {
    "id": "9127d024-92dd-4df6-a5c5-766d379f38c5"
   },
   "outputs": [
    {
     "data": {
      "text/plain": [
       "'50ebe483-da4a-46bc-bc98-679a1eba9d78'"
      ]
     },
     "execution_count": 7,
     "metadata": {},
     "output_type": "execute_result"
    }
   ],
   "source": [
    "project_id"
   ]
  },
  {
   "cell_type": "code",
   "execution_count": null,
   "metadata": {
    "id": "75ea66bc-fb34-4677-a174-4909319f93fc"
   },
   "outputs": [],
   "source": [
    "import os, types\n",
    "import pandas as pd\n",
    "from ibm_boto3 import client\n",
    "from botocore.client import Config\n",
    "import ibm_boto3\n",
    "\n",
    "def __iter__(self): return 0\n",
    "\n",
    "cos_client = ibm_boto3.client(service_name = 's3',\n",
    "                              ibm_api_key_id = 'Your api key here',\n",
    "                              ibm_auth_endpoint = \"https://iam.cloud.ibm.com/oidc/token\",\n",
    "                              config=Config(signature_version='oauth'),\n",
    "                              endpoint_url='https://s3.us-south.cloud-object-storage.appdomain.cloud')\n",
    "bucket = 'bucket-8r5wr3fk47phgz1'\n",
    "object_key = 'train_data.csv' "
   ]
  },
  {
   "cell_type": "code",
   "execution_count": 10,
   "metadata": {
    "id": "5f7fd289-d0a2-419d-9051-9c01f177f700"
   },
   "outputs": [
    {
     "data": {
      "text/html": [
       "<div>\n",
       "<style scoped>\n",
       "    .dataframe tbody tr th:only-of-type {\n",
       "        vertical-align: middle;\n",
       "    }\n",
       "\n",
       "    .dataframe tbody tr th {\n",
       "        vertical-align: top;\n",
       "    }\n",
       "\n",
       "    .dataframe thead th {\n",
       "        text-align: right;\n",
       "    }\n",
       "</style>\n",
       "<table border=\"1\" class=\"dataframe\">\n",
       "  <thead>\n",
       "    <tr style=\"text-align: right;\">\n",
       "      <th></th>\n",
       "      <th>ID</th>\n",
       "      <th>Gender</th>\n",
       "      <th>Status</th>\n",
       "      <th>Children</th>\n",
       "      <th>Age</th>\n",
       "      <th>Customer_Status</th>\n",
       "      <th>Car_Owner</th>\n",
       "      <th>Customer_Service</th>\n",
       "      <th>Satisfaction</th>\n",
       "      <th>Business_Area</th>\n",
       "      <th>Action</th>\n",
       "    </tr>\n",
       "  </thead>\n",
       "  <tbody>\n",
       "    <tr>\n",
       "      <th>0</th>\n",
       "      <td>1000</td>\n",
       "      <td>Female</td>\n",
       "      <td>F</td>\n",
       "      <td>0</td>\n",
       "      <td>29.07</td>\n",
       "      <td>Active</td>\n",
       "      <td>Yes</td>\n",
       "      <td>Vehicle was not clean upon delivery, disappoin...</td>\n",
       "      <td>1</td>\n",
       "      <td>Service: Orders/Contracts</td>\n",
       "      <td>Standard Pickup</td>\n",
       "    </tr>\n",
       "    <tr>\n",
       "      <th>1</th>\n",
       "      <td>1001</td>\n",
       "      <td>Male</td>\n",
       "      <td>F</td>\n",
       "      <td>0</td>\n",
       "      <td>29.08</td>\n",
       "      <td>Active</td>\n",
       "      <td>No</td>\n",
       "      <td>All went quite smoothly... it was Enterprise, ...</td>\n",
       "      <td>0</td>\n",
       "      <td>Service: Accessibility</td>\n",
       "      <td>Visit Nearest Center</td>\n",
       "    </tr>\n",
       "    <tr>\n",
       "      <th>2</th>\n",
       "      <td>1002</td>\n",
       "      <td>Male</td>\n",
       "      <td>F</td>\n",
       "      <td>3</td>\n",
       "      <td>52.70</td>\n",
       "      <td>Inactive</td>\n",
       "      <td>No</td>\n",
       "      <td>Long waiting time for pickup, very inconvenient.</td>\n",
       "      <td>0</td>\n",
       "      <td>Service: Attitude</td>\n",
       "      <td>Contact Support</td>\n",
       "    </tr>\n",
       "    <tr>\n",
       "      <th>3</th>\n",
       "      <td>1003</td>\n",
       "      <td>Female</td>\n",
       "      <td>M</td>\n",
       "      <td>2</td>\n",
       "      <td>22.79</td>\n",
       "      <td>Active</td>\n",
       "      <td>Yes</td>\n",
       "      <td>Vehicle was not clean upon delivery, disappoin...</td>\n",
       "      <td>1</td>\n",
       "      <td>Service: Accessibility</td>\n",
       "      <td>On-demand pickup location</td>\n",
       "    </tr>\n",
       "    <tr>\n",
       "      <th>4</th>\n",
       "      <td>1004</td>\n",
       "      <td>Female</td>\n",
       "      <td>F</td>\n",
       "      <td>1</td>\n",
       "      <td>36.25</td>\n",
       "      <td>Active</td>\n",
       "      <td>No</td>\n",
       "      <td>Very friendly service from the staff, quick an...</td>\n",
       "      <td>0</td>\n",
       "      <td>Service: Attitude</td>\n",
       "      <td>Contact Support</td>\n",
       "    </tr>\n",
       "  </tbody>\n",
       "</table>\n",
       "</div>"
      ],
      "text/plain": [
       "     ID  Gender Status  Children    Age Customer_Status Car_Owner  \\\n",
       "0  1000  Female      F         0  29.07          Active       Yes   \n",
       "1  1001    Male      F         0  29.08          Active        No   \n",
       "2  1002    Male      F         3  52.70        Inactive        No   \n",
       "3  1003  Female      M         2  22.79          Active       Yes   \n",
       "4  1004  Female      F         1  36.25          Active        No   \n",
       "\n",
       "                                    Customer_Service  Satisfaction  \\\n",
       "0  Vehicle was not clean upon delivery, disappoin...             1   \n",
       "1  All went quite smoothly... it was Enterprise, ...             0   \n",
       "2   Long waiting time for pickup, very inconvenient.             0   \n",
       "3  Vehicle was not clean upon delivery, disappoin...             1   \n",
       "4  Very friendly service from the staff, quick an...             0   \n",
       "\n",
       "               Business_Area                     Action  \n",
       "0  Service: Orders/Contracts            Standard Pickup  \n",
       "1     Service: Accessibility       Visit Nearest Center  \n",
       "2          Service: Attitude            Contact Support  \n",
       "3     Service: Accessibility  On-demand pickup location  \n",
       "4          Service: Attitude            Contact Support  "
      ]
     },
     "execution_count": 10,
     "metadata": {},
     "output_type": "execute_result"
    }
   ],
   "source": [
    "body = cos_client.get_object(Bucket = bucket, Key = object_key)['Body']\n",
    "if not hasattr(body, \"__iter__\"): body.__iter__=types.MethodType(__iter__,body)\n",
    "train_data = pd.read_csv(body)\n",
    "train_data.head(5)"
   ]
  },
  {
   "cell_type": "code",
   "execution_count": 14,
   "metadata": {
    "id": "62de5b32-66d2-4d73-bc05-00228f8cde70"
   },
   "outputs": [
    {
     "data": {
      "text/html": [
       "<div>\n",
       "<style scoped>\n",
       "    .dataframe tbody tr th:only-of-type {\n",
       "        vertical-align: middle;\n",
       "    }\n",
       "\n",
       "    .dataframe tbody tr th {\n",
       "        vertical-align: top;\n",
       "    }\n",
       "\n",
       "    .dataframe thead th {\n",
       "        text-align: right;\n",
       "    }\n",
       "</style>\n",
       "<table border=\"1\" class=\"dataframe\">\n",
       "  <thead>\n",
       "    <tr style=\"text-align: right;\">\n",
       "      <th></th>\n",
       "      <th>ID</th>\n",
       "      <th>Gender</th>\n",
       "      <th>Status</th>\n",
       "      <th>Children</th>\n",
       "      <th>Age</th>\n",
       "      <th>Customer_Status</th>\n",
       "      <th>Car_Owner</th>\n",
       "      <th>Customer_Service</th>\n",
       "      <th>Satisfaction</th>\n",
       "      <th>Business_Area</th>\n",
       "      <th>Action</th>\n",
       "    </tr>\n",
       "  </thead>\n",
       "  <tbody>\n",
       "    <tr>\n",
       "      <th>0</th>\n",
       "      <td>1000</td>\n",
       "      <td>Male</td>\n",
       "      <td>M</td>\n",
       "      <td>2</td>\n",
       "      <td>48.88</td>\n",
       "      <td>Active</td>\n",
       "      <td>Yes</td>\n",
       "      <td>Long waiting time for pickup, very inconvenient.</td>\n",
       "      <td>1</td>\n",
       "      <td>Product: Pricing and Billing</td>\n",
       "      <td>Visit Nearest Center</td>\n",
       "    </tr>\n",
       "    <tr>\n",
       "      <th>1</th>\n",
       "      <td>1001</td>\n",
       "      <td>Female</td>\n",
       "      <td>F</td>\n",
       "      <td>2</td>\n",
       "      <td>65.41</td>\n",
       "      <td>Active</td>\n",
       "      <td>Yes</td>\n",
       "      <td>All went quite smoothly... it was Enterprise, ...</td>\n",
       "      <td>1</td>\n",
       "      <td>Service: Accessibility</td>\n",
       "      <td>On-demand pickup location</td>\n",
       "    </tr>\n",
       "    <tr>\n",
       "      <th>2</th>\n",
       "      <td>1002</td>\n",
       "      <td>Female</td>\n",
       "      <td>F</td>\n",
       "      <td>0</td>\n",
       "      <td>63.00</td>\n",
       "      <td>Inactive</td>\n",
       "      <td>Yes</td>\n",
       "      <td>Very friendly service from the staff, quick an...</td>\n",
       "      <td>1</td>\n",
       "      <td>Service: Accessibility</td>\n",
       "      <td>NaN</td>\n",
       "    </tr>\n",
       "    <tr>\n",
       "      <th>3</th>\n",
       "      <td>1003</td>\n",
       "      <td>Female</td>\n",
       "      <td>F</td>\n",
       "      <td>0</td>\n",
       "      <td>19.43</td>\n",
       "      <td>Inactive</td>\n",
       "      <td>Yes</td>\n",
       "      <td>Excellent response dealing with child seat.</td>\n",
       "      <td>1</td>\n",
       "      <td>Service: Attitude</td>\n",
       "      <td>Standard Pickup</td>\n",
       "    </tr>\n",
       "    <tr>\n",
       "      <th>4</th>\n",
       "      <td>1004</td>\n",
       "      <td>Female</td>\n",
       "      <td>F</td>\n",
       "      <td>1</td>\n",
       "      <td>21.16</td>\n",
       "      <td>Inactive</td>\n",
       "      <td>Yes</td>\n",
       "      <td>The agent subsequently offered me a car type o...</td>\n",
       "      <td>0</td>\n",
       "      <td>Product: Pricing and Billing</td>\n",
       "      <td>Free Upgrade</td>\n",
       "    </tr>\n",
       "  </tbody>\n",
       "</table>\n",
       "</div>"
      ],
      "text/plain": [
       "     ID  Gender Status  Children    Age Customer_Status Car_Owner  \\\n",
       "0  1000    Male      M         2  48.88          Active       Yes   \n",
       "1  1001  Female      F         2  65.41          Active       Yes   \n",
       "2  1002  Female      F         0  63.00        Inactive       Yes   \n",
       "3  1003  Female      F         0  19.43        Inactive       Yes   \n",
       "4  1004  Female      F         1  21.16        Inactive       Yes   \n",
       "\n",
       "                                    Customer_Service  Satisfaction  \\\n",
       "0   Long waiting time for pickup, very inconvenient.             1   \n",
       "1  All went quite smoothly... it was Enterprise, ...             1   \n",
       "2  Very friendly service from the staff, quick an...             1   \n",
       "3        Excellent response dealing with child seat.             1   \n",
       "4  The agent subsequently offered me a car type o...             0   \n",
       "\n",
       "                  Business_Area                     Action  \n",
       "0  Product: Pricing and Billing       Visit Nearest Center  \n",
       "1        Service: Accessibility  On-demand pickup location  \n",
       "2        Service: Accessibility                        NaN  \n",
       "3             Service: Attitude            Standard Pickup  \n",
       "4  Product: Pricing and Billing               Free Upgrade  "
      ]
     },
     "execution_count": 14,
     "metadata": {},
     "output_type": "execute_result"
    }
   ],
   "source": [
    "import os, types\n",
    "import pandas as pd\n",
    "from ibm_boto3 import client\n",
    "from botocore.client import Config\n",
    "import ibm_boto3\n",
    "\n",
    "def __iter__(self): return 0\n",
    "\n",
    "cos_client = ibm_boto3.client(service_name = 's3',\n",
    "                              ibm_api_key_id = 'Za1PY3UFd70BYBXgmcb9PzIjRaJS3Ro7VItoIQWnF6zu',\n",
    "                              ibm_auth_endpoint = \"https://iam.cloud.ibm.com/oidc/token\",\n",
    "                              config=Config(signature_version='oauth'),\n",
    "                              endpoint_url='https://s3.us-south.cloud-object-storage.appdomain.cloud')\n",
    "bucket = 'bucket-8r5wr3fk47phgz1'\n",
    "object_key = 'test_data.csv' \n",
    "\n",
    "body = cos_client.get_object(Bucket = bucket, Key = object_key)['Body']\n",
    "if not hasattr(body, \"__iter__\"): body.__iter__=types.MethodType(__iter__,body)\n",
    "test_data = pd.read_csv(body)\n",
    "test_data.head(5)\n"
   ]
  },
  {
   "cell_type": "code",
   "execution_count": 15,
   "metadata": {
    "id": "ce61a6c9-53e9-4073-8ab5-032e493e06e5"
   },
   "outputs": [],
   "source": [
    "from ibm_watson_machine_learning.foundation_models.utils.enums import ModelTypes"
   ]
  },
  {
   "cell_type": "code",
   "execution_count": 16,
   "metadata": {
    "id": "32171f01-70cf-4456-ae5d-a2669b2adc64"
   },
   "outputs": [],
   "source": [
    "model_id = ModelTypes.FLAN_UL2"
   ]
  },
  {
   "cell_type": "code",
   "execution_count": 17,
   "metadata": {
    "id": "5ed2ba32-963c-412b-9084-3fa818e3676a"
   },
   "outputs": [],
   "source": [
    "satisfaction_instruction = \"\"\"\n",
    "You are a customer service assistant analyzing user reviews of car rentals. \n",
    "Your task is to classify whether the customer was satisfied or unsatisfied. \n",
    "Use tone, emotional cues, and stated experience to decide.\n",
    "\n",
    "Output 1 if the customer seems satisfied, 0 if not.\n",
    "\n",
    "Examples:\n",
    "\n",
    "comment: The car arrived on time, the condition was excellent, and the check-in process was seamless. Great experience overall!\n",
    "satisfaction: 1\n",
    "\n",
    "comment: I waited over an hour to get the car, and the staff didn’t explain anything. I felt completely ignored.\n",
    "satisfaction: 0\n",
    "\n",
    "comment: Vehicle was clean and in good condition. Staff was courteous. Would recommend.\n",
    "satisfaction: 1\n",
    "\n",
    "comment: The AC didn’t work, and I couldn’t get a replacement. The support team was unhelpful.\n",
    "satisfaction: 0\n",
    "\n",
    "comment: The price was fair, and the return process was quick. No issues.\n",
    "satisfaction: 1\n",
    "\n",
    "comment: I was given the wrong car model, and the staff argued when I complained. Extremely disappointed.\n",
    "satisfaction: 0\n",
    "\n",
    "comment: The pickup location was slightly hard to find, but the car and service made up for it. Would book again.\n",
    "satisfaction: 1\n",
    "\n",
    "comment: I have had a few recent rentals that have taken a very long time, with no offer of apology. In the most recent case, the agent offered me an upgrade coupon, but told me it was no longer available because it had just been given out.\n",
    "satisfaction: 0\n",
    "\"\"\"\n"
   ]
  },
  {
   "cell_type": "code",
   "execution_count": 18,
   "metadata": {
    "id": "4ca5fe21-56de-480a-ae26-11aa6e80c9ac"
   },
   "outputs": [],
   "source": [
    "from ibm_watson_machine_learning.metanames import GenTextParamsMetaNames as GenParams\n",
    "parameters = {\n",
    "    GenParams.MAX_NEW_TOKENS:10\n",
    "}"
   ]
  },
  {
   "cell_type": "code",
   "execution_count": 21,
   "metadata": {
    "id": "3da9f563-e7e7-4e98-8ef2-10050a7c02be"
   },
   "outputs": [],
   "source": [
    "from ibm_watson_machine_learning.foundation_models import Model\n",
    "model = Model(\n",
    "    model_id = model_id,\n",
    "    params = parameters,\n",
    "    credentials = credetials,\n",
    "    project_id = project_id\n",
    ")"
   ]
  },
  {
   "cell_type": "code",
   "execution_count": 33,
   "metadata": {
    "id": "5cd653a6-8e91-49d9-82c6-e4f9aa1d6df9"
   },
   "outputs": [],
   "source": [
    "feature_instruction = \"\"\"\n",
    "You are a customer service analyst reviewing customer feedback. Identify specific service-related issues mentioned in the comment.\n",
    "\n",
    "List key complaints or service highlights as bullet points.\n",
    "\n",
    "Examples:\n",
    "comment: The car arrived late and the brakes were noisy.\n",
    "issues:\n",
    "- Late delivery\n",
    "- Poor car condition (brakes)\n",
    "\n",
    "comment: The car was clean and staff was friendly.\n",
    "issues:\n",
    "- Clean car\n",
    "- Friendly staff\n",
    "\"\"\""
   ]
  },
  {
   "cell_type": "code",
   "execution_count": 35,
   "metadata": {
    "id": "f91cbaba-e519-4787-9661-73a8fdd956ef"
   },
   "outputs": [],
   "source": [
    "import time\n",
    "comments = list(test_data.Customer_Service)\n",
    "sentiment_labels = []\n",
    "extracted_issues = []\n",
    "\n",
    "for comment in comments:\n",
    "    sat_prompt = f\"{satisfaction_instruction}\\ncomment: {comment}\"\n",
    "    result = model.generate_text(prompt=sat_prompt)\n",
    "    sentiment_labels.append(result.strip().split(\":\")[-1].strip()) \n",
    "\n",
    "    feat_prompt = f\"{feature_instruction}\\ncomment: {comment}\"\n",
    "    issues = model.generate_text(prompt=feat_prompt)\n",
    "    extracted_issues.append(issues.strip())\n",
    "    \n",
    "    time.sleep(0.6) \n"
   ]
  },
  {
   "cell_type": "code",
   "execution_count": 36,
   "metadata": {
    "id": "fb7bde3f-79d8-4560-98cc-e36fc030520a"
   },
   "outputs": [],
   "source": [
    "test_data[\"Predicted_Sentiment\"] = sentiment_labels\n",
    "test_data[\"Extracted_Issues\"] = extracted_issues\n",
    "test_data.to_csv(\"review_analysis_output.csv\", index=False)\n",
    "test_data.to_excel(\"review_analysis_output.xlsx\", index=False)"
   ]
  },
  {
   "cell_type": "code",
   "execution_count": 38,
   "metadata": {
    "id": "b4373706-8db2-424f-b5c0-eb04b7d40346"
   },
   "outputs": [
    {
     "data": {
      "image/png": "[encoded data removed]",
      "text/plain": [
       "<Figure size 600x600 with 1 Axes>"
      ]
     },
     "metadata": {},
     "output_type": "display_data"
    },
    {
     "data": {
      "image/png": "[encoded data removed]",
      "text/plain": [
       "<Figure size 1000x500 with 1 Axes>"
      ]
     },
     "metadata": {},
     "output_type": "display_data"
    }
   ],
   "source": [
    "import matplotlib.pyplot as plt\n",
    "import seaborn as sns\n",
    "from collections import Counter\n",
    "import re\n",
    "\n",
    "sentiment_counts = test_data[\"Predicted_Sentiment\"].value_counts()\n",
    "labels = ['Satisfied' if s == '1' else 'Unsatisfied' for s in sentiment_counts.index]\n",
    "\n",
    "plt.figure(figsize=(6,6))\n",
    "plt.pie(sentiment_counts, labels=labels, autopct='%1.1f%%', colors=['#66bb6a', '#ef5350'])\n",
    "plt.title(\"Customer Satisfaction Distribution\")\n",
    "plt.show()\n",
    "all_issues = []\n",
    "for item in test_data[\"Extracted_Issues\"]:\n",
    "    bullets = re.findall(r\"-\\s*(.*)\", item)\n",
    "    all_issues.extend(bullets)\n",
    "\n",
    "issue_counts = Counter(all_issues)\n",
    "top_issues = issue_counts.most_common(10) \n",
    "\n",
    "issue_df = pd.DataFrame(top_issues, columns=[\"Issue\", \"Count\"])\n",
    "\n",
    "plt.figure(figsize=(10,5))\n",
    "sns.barplot(data=issue_df, y=\"Issue\", x=\"Count\", palette=\"flare\")\n",
    "plt.title(\"Top 10 Most Common Issues or Highlights\")\n",
    "plt.xlabel(\"Mentions\")\n",
    "plt.ylabel(\"Issue/Highlight\")\n",
    "plt.tight_layout()\n",
    "plt.show()"
   ]
  },
  {
   "cell_type": "code",
   "execution_count": null,
   "metadata": {
    "id": "93517828-c4c5-4cd0-95f7-d3ec456f7320"
   },
   "outputs": [],
   "source": []
  }
 ],
 "metadata": {
  "kernelspec": {
   "display_name": "Python 3.11",
   "language": "python",
   "name": "python3"
  },
  "language_info": {
   "codemirror_mode": {
    "name": "ipython",
    "version": 3
   },
   "file_extension": ".py",
   "mimetype": "text/x-python",
   "name": "python",
   "nbconvert_exporter": "python",
   "pygments_lexer": "ipython3",
   "version": "3.11.13"
  }
 },
 "nbformat": 4,
 "nbformat_minor": 4
}
